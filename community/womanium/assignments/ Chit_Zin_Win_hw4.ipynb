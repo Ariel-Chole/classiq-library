{
 "cells": [
  {
   "cell_type": "markdown",
   "id": "40138f14",
   "metadata": {},
   "source": [
    "# Quantum Walks"
   ]
  },
  {
   "cell_type": "markdown",
   "id": "4252dfda",
   "metadata": {},
   "source": [
    "A framework of quantum algorithm which is originated from classical random walks."
   ]
  },
  {
   "cell_type": "markdown",
   "id": "9cc561eb",
   "metadata": {},
   "source": [
    "This notebook is created for the discrete-time quantum walks based on 16 nodes."
   ]
  },
  {
   "attachments": {
    "16%20nodes.jpg.png": {
     "image/png": "[encoded data removed]"
    }
   },
   "cell_type": "markdown",
   "id": "26606568",
   "metadata": {},
   "source": [
    "![16%20nodes.jpg.png](attachment:16%20nodes.jpg.png)"
   ]
  },
  {
   "cell_type": "markdown",
   "id": "b1a80f6b",
   "metadata": {},
   "source": [
    "Firsly, prepare the size = 4 for 16 nodes"
   ]
  },
  {
   "cell_type": "code",
   "execution_count": 1,
   "id": "f6bf28fc",
   "metadata": {},
   "outputs": [],
   "source": [
    "from classiq import *\n",
    "\n",
    "size = 4"
   ]
  },
  {
   "cell_type": "markdown",
   "id": "7ecda83c",
   "metadata": {},
   "source": [
    "Prepare zero-diffuzer operator for Phase-kickback"
   ]
  },
  {
   "cell_type": "code",
   "execution_count": 2,
   "id": "9d96e957",
   "metadata": {},
   "outputs": [],
   "source": [
    "@qfunc\n",
    "def prepare_minus(x: QBit):\n",
    "    X(x)\n",
    "    H(x)\n",
    "\n",
    "\n",
    "@qfunc\n",
    "def diffuzer_oracle(aux: Output[QNum],x:QNum):\n",
    "    aux^=(x!=0)\n",
    "\n",
    "\n",
    "@qfunc\n",
    "def zero_diffuzer(x: QNum):\n",
    "    aux = QNum('aux')\n",
    "    allocate(1,aux)\n",
    "    within_apply(compute=lambda: prepare_minus(aux),\n",
    "              action=lambda: diffuzer_oracle)"
   ]
  },
  {
   "cell_type": "markdown",
   "id": "fc6647f1",
   "metadata": {},
   "source": [
    "Prepare C_iteration for superposition of adjacent vertices in connection with target vertice.\n"
   ]
  },
  {
   "cell_type": "markdown",
   "id": "32c9d78a",
   "metadata": {},
   "source": [
    "We need to initialize the probability for 16 nodes.\n",
    "Base on the above picture, there isn't any connection between 0 and 15. 0 only connects with 1 and 15 only connects with 14.\n",
    "Therefore, if i == 0, p[1] = 1 and if i == 15, p[14] = 1."
   ]
  },
  {
   "cell_type": "markdown",
   "id": "76888fb5",
   "metadata": {},
   "source": [
    "for other nodes, moving forward   p[(i+1)% (2**size)] = 0.5,\n",
    "\n",
    "                 moving backward p[(i-1)% (2**size)] = 0.5"
   ]
  },
  {
   "cell_type": "markdown",
   "id": "f13745f5",
   "metadata": {},
   "source": [
    "Unitary is in the inplace_prepare_state"
   ]
  },
  {
   "cell_type": "code",
   "execution_count": 3,
   "id": "787e2fb8",
   "metadata": {},
   "outputs": [],
   "source": [
    "def C_iteration(i:int,vertices: QNum, adjacent_vertices:QNum):\n",
    "    # intialize the probability for 16 nodes \n",
    "    prob = [0,0,0,0,0,0,0,0,0,0,0,0,0,0,0,0]\n",
    "    if i == 0: #  0 is only connected with 1\n",
    "        prob[1] = 1\n",
    "    elif i == 15: # 15 is only connected with 14\n",
    "        prob[14] = 1\n",
    "    else:# others are in equal superposition\n",
    "        prob[(i+1)% 16]=0.5\n",
    "        prob[(i-1)% 16]=0.5\n",
    "    print(f'State={i}, prob vec ={prob}')\n",
    "    \n",
    "    control(ctrl=vertices==i,\n",
    "            operand=lambda: within_apply(\n",
    "              compute= lambda: inplace_prepare_state(probabilities=prob, bound=0.01, target=adjacent_vertices),\n",
    "              action= lambda: zero_diffuzer(adjacent_vertices)))\n"
   ]
  },
  {
   "cell_type": "markdown",
   "id": "ea66cb3e",
   "metadata": {},
   "source": [
    "Create the C_operator to iterate over all the vertices we have"
   ]
  },
  {
   "cell_type": "code",
   "execution_count": 4,
   "id": "9e502e23",
   "metadata": {},
   "outputs": [],
   "source": [
    "@qfunc \n",
    "def C_operator(vertices:QNum, adjacent_vertices: QNum):\n",
    "    for i in range(2**size):\n",
    "        C_iteration(i,vertices,adjacent_vertices)"
   ]
  },
  {
   "cell_type": "markdown",
   "id": "0745fd00",
   "metadata": {},
   "source": [
    "Prepare edge_oracle"
   ]
  },
  {
   "cell_type": "markdown",
   "id": "6ad7008d",
   "metadata": {},
   "source": [
    "res(edge) wil be one only when there is a connection between vertices."
   ]
  },
  {
   "cell_type": "markdown",
   "id": "4103643e",
   "metadata": {},
   "source": [
    "For this case, if (veritces - adjacent_vertices) == 1 or -1, an edge can be found between two vertices."
   ]
  },
  {
   "cell_type": "code",
   "execution_count": 5,
   "id": "563dcbaf",
   "metadata": {},
   "outputs": [],
   "source": [
    "@qfunc\n",
    "def edge_oracle(res:Output[QBit], vertices: QNum, adjacent_vertices: QNum):\n",
    "    res |= (((vertices - adjacent_vertices) == 1) | ((vertices - adjacent_vertices) == -1)) "
   ]
  },
  {
   "cell_type": "markdown",
   "id": "077658a4",
   "metadata": {},
   "source": [
    "For S_operator, we create bitwise_swap first."
   ]
  },
  {
   "cell_type": "code",
   "execution_count": 6,
   "id": "a2dffaec",
   "metadata": {},
   "outputs": [],
   "source": [
    "@qfunc \n",
    "def bitwise_swap(x: QArray[QBit], y:QArray[QBit]):\n",
    "    repeat(count= x.len,\n",
    "    iteration= lambda i: SWAP(x[i],y[i]))"
   ]
  },
  {
   "cell_type": "markdown",
   "id": "164cb40b",
   "metadata": {},
   "source": [
    "Create S_operator using edge_oracle and bitwise_swap to have a swap only if there is an edge between two vertices."
   ]
  },
  {
   "cell_type": "markdown",
   "id": "2b2cb4db",
   "metadata": {},
   "source": [
    "If not, don't apply bitwise_swap."
   ]
  },
  {
   "cell_type": "code",
   "execution_count": 7,
   "id": "9bb13ab9",
   "metadata": {},
   "outputs": [],
   "source": [
    "@qfunc \n",
    "def S_operator(vertices:QNum, adjacent_vertices: QNum):\n",
    "    res = QNum('res')\n",
    "    edge_oracle(res,vertices,adjacent_vertices)\n",
    "    control(ctrl= res==1,\n",
    "    operand= lambda: bitwise_swap(vertices,adjacent_vertices))"
   ]
  },
  {
   "cell_type": "markdown",
   "id": "9b3bc344",
   "metadata": {},
   "source": [
    "Now we have both C and S operators to implement the main operator."
   ]
  },
  {
   "cell_type": "code",
   "execution_count": 10,
   "id": "0d9eea4b",
   "metadata": {},
   "outputs": [
    {
     "name": "stdout",
     "output_type": "stream",
     "text": [
      "State=0, prob vec =[0, 1, 0, 0, 0, 0, 0, 0, 0, 0, 0, 0, 0, 0, 0, 0]\n",
      "State=1, prob vec =[0.5, 0, 0.5, 0, 0, 0, 0, 0, 0, 0, 0, 0, 0, 0, 0, 0]\n",
      "State=2, prob vec =[0, 0.5, 0, 0.5, 0, 0, 0, 0, 0, 0, 0, 0, 0, 0, 0, 0]\n",
      "State=3, prob vec =[0, 0, 0.5, 0, 0.5, 0, 0, 0, 0, 0, 0, 0, 0, 0, 0, 0]\n",
      "State=4, prob vec =[0, 0, 0, 0.5, 0, 0.5, 0, 0, 0, 0, 0, 0, 0, 0, 0, 0]\n",
      "State=5, prob vec =[0, 0, 0, 0, 0.5, 0, 0.5, 0, 0, 0, 0, 0, 0, 0, 0, 0]\n",
      "State=6, prob vec =[0, 0, 0, 0, 0, 0.5, 0, 0.5, 0, 0, 0, 0, 0, 0, 0, 0]\n",
      "State=7, prob vec =[0, 0, 0, 0, 0, 0, 0.5, 0, 0.5, 0, 0, 0, 0, 0, 0, 0]\n",
      "State=8, prob vec =[0, 0, 0, 0, 0, 0, 0, 0.5, 0, 0.5, 0, 0, 0, 0, 0, 0]\n",
      "State=9, prob vec =[0, 0, 0, 0, 0, 0, 0, 0, 0.5, 0, 0.5, 0, 0, 0, 0, 0]\n",
      "State=10, prob vec =[0, 0, 0, 0, 0, 0, 0, 0, 0, 0.5, 0, 0.5, 0, 0, 0, 0]\n",
      "State=11, prob vec =[0, 0, 0, 0, 0, 0, 0, 0, 0, 0, 0.5, 0, 0.5, 0, 0, 0]\n",
      "State=12, prob vec =[0, 0, 0, 0, 0, 0, 0, 0, 0, 0, 0, 0.5, 0, 0.5, 0, 0]\n",
      "State=13, prob vec =[0, 0, 0, 0, 0, 0, 0, 0, 0, 0, 0, 0, 0.5, 0, 0.5, 0]\n",
      "State=14, prob vec =[0, 0, 0, 0, 0, 0, 0, 0, 0, 0, 0, 0, 0, 0.5, 0, 0.5]\n",
      "State=15, prob vec =[0, 0, 0, 0, 0, 0, 0, 0, 0, 0, 0, 0, 0, 0, 1, 0]\n",
      "Opening: https://platform.classiq.io/circuit/01bbe186-944c-4730-95de-da1ed9c25253?version=0.42.2\n"
     ]
    }
   ],
   "source": [
    "@qfunc \n",
    "def main(vertices:Output[QNum], adjacent_vertices:Output[QNum]):\n",
    "    allocate(size,vertices)\n",
    "    hadamard_transform(vertices)\n",
    "    allocate(size,adjacent_vertices)\n",
    "\n",
    "    C_operator(vertices,adjacent_vertices)\n",
    "    S_operator(vertices,adjacent_vertices)\n",
    "\n",
    "qmod = create_model(main)\n",
    "qprog = synthesize(qmod)\n",
    "show(qprog)"
   ]
  },
  {
   "cell_type": "code",
   "execution_count": null,
   "id": "fe6a5aba",
   "metadata": {},
   "outputs": [],
   "source": []
  }
 ],
 "metadata": {
  "kernelspec": {
   "display_name": "Python 3 (ipykernel)",
   "language": "python",
   "name": "python3"
  },
  "language_info": {
   "codemirror_mode": {
    "name": "ipython",
    "version": 3
   },
   "file_extension": ".py",
   "mimetype": "text/x-python",
   "name": "python",
   "nbconvert_exporter": "python",
   "pygments_lexer": "ipython3",
   "version": "3.11.7"
  }
 },
 "nbformat": 4,
 "nbformat_minor": 5
}
